{
 "cells": [
  {
   "cell_type": "code",
   "execution_count": 1,
   "metadata": {},
   "outputs": [],
   "source": [
    "format = 'Pauper'\n",
    "decks = ['Burn','Affinity','Dimir Control','Mono-Blue Faeries','Orzhov Ephemerate','Gruul Ponza','Familiars',\n",
    "         'Boros Synthesizer','Mono-Red Synthesizer','Walls Combo','Tron','Caw Gates','4 Color Ephemerate','Ephemerate Tron',\n",
    "         'Bogles','Kiln Fiend','Boros Bully','Izzet Faeries','Goblins','Slivers','Jeskai Ephemerate']"
   ]
  },
  {
   "cell_type": "code",
   "execution_count": null,
   "metadata": {},
   "outputs": [],
   "source": [
    "format = 'Standard'\n",
    "decks = ['Grixis Midrange','Mono-White Midrange','5 Color Midrange','Mono-Red Aggro',\n",
    "        'Esper Midrange','Mono-Blue Tempo','Azorius Soldiers','Selesnya Poison',\n",
    "        'Jund Midrange','Kami War','Esper Legends','Mardu Midrange','Rakdos Aggro',\n",
    "        'Domain Control','Esper Aggro']"
   ]
  },
  {
   "cell_type": "code",
   "execution_count": 11,
   "metadata": {},
   "outputs": [],
   "source": [
    "format = 'Pioneer'\n",
    "decks = ['Rakdos Midrange','Abzan Greasefang','Nykthos Ramp','Azorius Control','Temur Indomitable Creativity',\n",
    "         'Lotus Field Combo','Gruul Midrange','Izzet Phoenix','5 Color Midrange','Selesnya Angels',\n",
    "         'Mono-White Humans','Dimir Control','Azorius Spirits','5 Color Fires of Invention','Mono-Red Goblins',\n",
    "         'Mono-Blue Spirits','Rakdos Sacrifice','4 Color Auras','Mono-Black Midrange','Bant Spirits']"
   ]
  },
  {
   "cell_type": "code",
   "execution_count": 15,
   "metadata": {},
   "outputs": [],
   "source": [
    "format = 'Modern'\n",
    "decks = ['Izzet Murktide','5 Color Indomitable Creativity','Hammer Time','Rakdos Midrange','Burn','4 Color Omnath',\n",
    "         'Amulet Titan','Golgari Yawgmoth','Domain Zoo','Mono-Green Tron','Dimir Mill','Generic Ragavan','Living End',\n",
    "         'Merfolk',\"Death's Shadow\",'Jeskai Control','5 Color Reanimator','Mono-Blue Affinity','Jeskai Prowess','Azorius Control']"
   ]
  },
  {
   "cell_type": "code",
   "execution_count": 8,
   "metadata": {},
   "outputs": [],
   "source": [
    "format = 'Legacy'\n",
    "decks = ['Reanimator','Cephalid Breakfast','Painter','Mono-Blue 8-Cast','Izzet Delver','Sneak and Show','Death\\'s Shadow',\n",
    "         'Five-Color Zenith','Doomsday','Death and Taxes','Temur Delver','Mono-Red Prison','Elves','Naya Depths',\n",
    "         'Lands','Food Chain Goblins','Maverick','Jeskai Control','4 Color Aluren','Mono-Red Burn','Mono-White Hammer',\n",
    "         'Jeskai Stoneblade','4 Color Stoneblade','Omni-Tell','Ad Nauseam Tendrils']"
   ]
  },
  {
   "cell_type": "code",
   "execution_count": 5,
   "metadata": {},
   "outputs": [],
   "source": [
    "format = 'Vintage'\n",
    "decks = ['Esper Tinker','Mono-White Initiative','Paradoxical Outcome','Doomsday','Squee Hollow Vine','Dredge','Jeskai Control',\n",
    "         'Oath of Druids','Prison Shops','Aggro Shops','4 Color Tempo','Azorius Initiative','Hogaak Vine']"
   ]
  },
  {
   "cell_type": "code",
   "execution_count": 9,
   "metadata": {},
   "outputs": [],
   "source": [
    "def get_decklist(deckname):\n",
    "    with open(format+' Metagame Decks/Raw Decklists/Deck - '+deckname+'.txt','r') as decklist:\n",
    "        lines = decklist.readlines()\n",
    "    return lines \n",
    "\n",
    "def make_csv(deckname,lines):\n",
    "    with open(format+' Metagame Decks/'+deckname+'.csv','w') as file:\n",
    "        file.write('Quantity,Card_Name\\n')\n",
    "        for line in lines:\n",
    "            if len(line) > 1:\n",
    "                if line[1] == ' ': #changes the logic a little if the card count is double digit\n",
    "                    file.write(line[0]+',\"'+line[2:len(line)-1]+'\"\\n')\n",
    "                else:\n",
    "                    file.write(line[0:2]+',\"'+line[3:len(line)-1]+'\"\\n')\n"
   ]
  },
  {
   "cell_type": "code",
   "execution_count": 10,
   "metadata": {},
   "outputs": [],
   "source": [
    "for deck in decks:\n",
    "    cards = get_decklist(deck)\n",
    "    make_csv(deck,cards)"
   ]
  }
 ],
 "metadata": {
  "kernelspec": {
   "display_name": "Python 3",
   "language": "python",
   "name": "python3"
  },
  "language_info": {
   "codemirror_mode": {
    "name": "ipython",
    "version": 3
   },
   "file_extension": ".py",
   "mimetype": "text/x-python",
   "name": "python",
   "nbconvert_exporter": "python",
   "pygments_lexer": "ipython3",
   "version": "3.10.10"
  },
  "orig_nbformat": 4
 },
 "nbformat": 4,
 "nbformat_minor": 2
}
