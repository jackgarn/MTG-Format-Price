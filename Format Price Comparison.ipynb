{
 "cells": [
  {
   "attachments": {},
   "cell_type": "markdown",
   "metadata": {},
   "source": [
    "# Format Price Comparison\n",
    "We are going to combine all of out work into one dataset to analyze"
   ]
  },
  {
   "cell_type": "code",
   "execution_count": 15,
   "metadata": {},
   "outputs": [],
   "source": [
    "import pandas as pd"
   ]
  },
  {
   "cell_type": "code",
   "execution_count": 21,
   "metadata": {},
   "outputs": [],
   "source": [
    "standard = pd.read_csv('Format Price Data/Standard_Metagame_Deck_Prices.csv')\n",
    "standard = standard.drop(['MTGArena_Price'], axis = 1)\n",
    "pioneer = pd.read_csv('Format Price Data/Pioneer_Metagame_Deck_Prices.csv')\n",
    "modern = pd.read_csv('Format Price Data/Modern_Metagame_Deck_Prices.csv')\n",
    "pauper = pd.read_csv('Format Price Data/Pauper_Metagame_Deck_Prices.csv')\n",
    "\n",
    "standard['Format'] = 'Standard'\n",
    "pioneer['Format'] = 'Pioneer'\n",
    "modern['Format'] = 'Modern'\n",
    "pauper['Format'] = 'Pauper'\n",
    "\n",
    "formats = [standard,pioneer,modern,pauper]\n",
    "df = pd.concat(formats,ignore_index=True)\n",
    "#we don't need to transform this data any further, we will output it now\n",
    "df.to_csv(\"Format Price Data/Format_Price_Comparison.csv\",index=False)"
   ]
  }
 ],
 "metadata": {
  "kernelspec": {
   "display_name": "Python 3",
   "language": "python",
   "name": "python3"
  },
  "language_info": {
   "codemirror_mode": {
    "name": "ipython",
    "version": 3
   },
   "file_extension": ".py",
   "mimetype": "text/x-python",
   "name": "python",
   "nbconvert_exporter": "python",
   "pygments_lexer": "ipython3",
   "version": "3.10.10"
  },
  "orig_nbformat": 4
 },
 "nbformat": 4,
 "nbformat_minor": 2
}
