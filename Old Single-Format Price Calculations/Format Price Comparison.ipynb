{
 "cells": [
  {
   "attachments": {},
   "cell_type": "markdown",
   "metadata": {},
   "source": [
    "# Format Price Comparison\n",
    "We are going to combine all of out work into one dataset to analyze"
   ]
  },
  {
   "cell_type": "code",
   "execution_count": 35,
   "metadata": {},
   "outputs": [],
   "source": [
    "import pandas as pd"
   ]
  },
  {
   "cell_type": "code",
   "execution_count": 36,
   "metadata": {},
   "outputs": [],
   "source": [
    "standard = pd.read_csv('Format Price Data/Standard_Metagame_Deck_Prices.csv')\n",
    "standard = standard.drop(['MTGArena_Price'], axis = 1)\n",
    "pioneer = pd.read_csv('Format Price Data/Pioneer_Metagame_Deck_Prices.csv')\n",
    "modern = pd.read_csv('Format Price Data/Modern_Metagame_Deck_Prices.csv')\n",
    "pauper = pd.read_csv('Format Price Data/Pauper_Metagame_Deck_Prices.csv')\n",
    "\n",
    "standard['Format'] = 'Standard'\n",
    "pioneer['Format'] = 'Pioneer'\n",
    "modern['Format'] = 'Modern'\n",
    "pauper['Format'] = 'Pauper'\n",
    "\n",
    "formats = [standard,pioneer,modern,pauper]\n",
    "df = pd.concat(formats,ignore_index=True)"
   ]
  },
  {
   "attachments": {},
   "cell_type": "markdown",
   "metadata": {},
   "source": [
    "One final issue: there are duplicate deck names across formats (i.e. multiple formats have an Azorius Control deck). In order to make these play nice with each other, we will add the format name before the deck name; in the end we will have Modern Azoruius Control and Pioneer Azorius Control"
   ]
  },
  {
   "cell_type": "code",
   "execution_count": 39,
   "metadata": {},
   "outputs": [],
   "source": [
    "#I'd like to just iterate over df.loc[df['Deck_Name'].duplicated()].index, but then we aren't hitting the first instance of the duplicate\n",
    "duplicate_names = []\n",
    "for i in df['Deck_Name'].loc[df['Deck_Name'].duplicated()].index:\n",
    "    duplicate_names.append(df['Deck_Name'].loc[i])\n",
    "    #this makes duplicate_names a list of all duplicated names for reference\n",
    "\n",
    "for i in df.index:\n",
    "    if df['Deck_Name'].loc[i] in duplicate_names:\n",
    "        df['Deck_Name'].loc[i] = df['Format'].loc[i]+' '+df['Deck_Name'].loc[i]"
   ]
  },
  {
   "cell_type": "code",
   "execution_count": 38,
   "metadata": {},
   "outputs": [],
   "source": [
    "df.to_csv(\"Format Price Data/Format_Price_Comparison.csv\",index=False)"
   ]
  }
 ],
 "metadata": {
  "kernelspec": {
   "display_name": "Python 3",
   "language": "python",
   "name": "python3"
  },
  "language_info": {
   "codemirror_mode": {
    "name": "ipython",
    "version": 3
   },
   "file_extension": ".py",
   "mimetype": "text/x-python",
   "name": "python",
   "nbconvert_exporter": "python",
   "pygments_lexer": "ipython3",
   "version": "3.10.10"
  },
  "orig_nbformat": 4
 },
 "nbformat": 4,
 "nbformat_minor": 2
}
